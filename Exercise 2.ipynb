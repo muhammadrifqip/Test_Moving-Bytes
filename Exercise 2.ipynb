{
 "cells": [
  {
   "cell_type": "code",
   "execution_count": 1,
   "metadata": {},
   "outputs": [],
   "source": [
    "import pandas as pd\n",
    "import numpy as np"
   ]
  },
  {
   "cell_type": "code",
   "execution_count": 2,
   "metadata": {},
   "outputs": [],
   "source": [
    "arr_2 = []\n",
    "def createWarehouse(id_,stock):\n",
    "    arr = []\n",
    "    arr.append(id_)\n",
    "    arr.append(stock)\n",
    "    return arr\n"
   ]
  },
  {
   "cell_type": "code",
   "execution_count": 3,
   "metadata": {},
   "outputs": [],
   "source": [
    "arr_2.append(createWarehouse(5,19))\n",
    "arr_2.append(createWarehouse(10,100))"
   ]
  },
  {
   "cell_type": "code",
   "execution_count": 4,
   "metadata": {},
   "outputs": [
    {
     "data": {
      "text/plain": [
       "[[5, 19], [10, 100]]"
      ]
     },
     "execution_count": 4,
     "metadata": {},
     "output_type": "execute_result"
    }
   ],
   "source": [
    "arr_2"
   ]
  },
  {
   "cell_type": "code",
   "execution_count": 5,
   "metadata": {},
   "outputs": [],
   "source": [
    "arr_4 = []\n",
    "def insertGoods(id_,brng,jmlh):\n",
    "    arr_3 = []\n",
    "    for i in range(len(arr_2)): #arr_2 = Data Gudang\n",
    "        if(arr_2[i][0] == id_):\n",
    "            if(arr_2[i][1]-jmlh > 0):\n",
    "                arr_3.append(id_)\n",
    "                arr_3.append(brng)\n",
    "                arr_3.append(jmlh)\n",
    "                arr_2[i][1]=arr_2[i][1]-jmlh\n",
    "                arr_4.append(arr_3)\n",
    "            else:\n",
    "                print(\"Stok Full\")"
   ]
  },
  {
   "cell_type": "code",
   "execution_count": 6,
   "metadata": {},
   "outputs": [],
   "source": [
    "insertGoods(10,\"SUSU\",10)"
   ]
  },
  {
   "cell_type": "code",
   "execution_count": 7,
   "metadata": {},
   "outputs": [
    {
     "name": "stdout",
     "output_type": "stream",
     "text": [
      "1\n",
      "[[10, 'SUSU', 10]]\n"
     ]
    }
   ],
   "source": [
    "print(len(arr_4))\n",
    "print(arr_4)"
   ]
  },
  {
   "cell_type": "code",
   "execution_count": 8,
   "metadata": {},
   "outputs": [
    {
     "data": {
      "text/plain": [
       "[[5, 19], [10, 90]]"
      ]
     },
     "execution_count": 8,
     "metadata": {},
     "output_type": "execute_result"
    }
   ],
   "source": [
    "arr_2"
   ]
  },
  {
   "cell_type": "code",
   "execution_count": 9,
   "metadata": {},
   "outputs": [],
   "source": [
    "arr_5 = []\n",
    "def getGoods(id_,brng,jmlh):\n",
    "    arr_6 = []\n",
    "    for i in range(len(arr_4)): #arr_2 = Data Gudang\n",
    "        if(arr_4[i][0] == id_):\n",
    "            if(arr_4[i][2]-jmlh > 0):\n",
    "                arr_6.append(id_)\n",
    "                arr_6.append(brng)\n",
    "                arr_6.append(jmlh)\n",
    "                arr_4[i][2]=arr_4[i][2]-jmlh\n",
    "                arr_5.append(arr_6)\n",
    "            else:\n",
    "                print(\"Stok Habis\")"
   ]
  },
  {
   "cell_type": "code",
   "execution_count": 18,
   "metadata": {},
   "outputs": [],
   "source": [
    "getGoods(10,\"SUSU\",1)"
   ]
  },
  {
   "cell_type": "code",
   "execution_count": 19,
   "metadata": {},
   "outputs": [
    {
     "data": {
      "text/plain": [
       "[[5, 19], [10, 90]]"
      ]
     },
     "execution_count": 19,
     "metadata": {},
     "output_type": "execute_result"
    }
   ],
   "source": [
    "arr_2"
   ]
  },
  {
   "cell_type": "code",
   "execution_count": 20,
   "metadata": {},
   "outputs": [
    {
     "data": {
      "text/plain": [
       "[[10, 'SUSU', 6]]"
      ]
     },
     "execution_count": 20,
     "metadata": {},
     "output_type": "execute_result"
    }
   ],
   "source": [
    "arr_4"
   ]
  },
  {
   "cell_type": "code",
   "execution_count": null,
   "metadata": {},
   "outputs": [],
   "source": []
  },
  {
   "cell_type": "code",
   "execution_count": null,
   "metadata": {},
   "outputs": [],
   "source": []
  },
  {
   "cell_type": "code",
   "execution_count": null,
   "metadata": {},
   "outputs": [],
   "source": []
  }
 ],
 "metadata": {
  "kernelspec": {
   "display_name": "Python 3",
   "language": "python",
   "name": "python3"
  },
  "language_info": {
   "codemirror_mode": {
    "name": "ipython",
    "version": 3
   },
   "file_extension": ".py",
   "mimetype": "text/x-python",
   "name": "python",
   "nbconvert_exporter": "python",
   "pygments_lexer": "ipython3",
   "version": "3.7.1"
  }
 },
 "nbformat": 4,
 "nbformat_minor": 2
}
